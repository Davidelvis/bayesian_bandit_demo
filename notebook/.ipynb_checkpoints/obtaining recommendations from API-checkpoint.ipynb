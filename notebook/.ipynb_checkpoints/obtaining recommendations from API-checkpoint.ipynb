{
 "cells": [
  {
   "cell_type": "code",
   "execution_count": null,
   "metadata": {},
   "outputs": [],
   "source": [
    "# GET NEIGHBORS"
   ]
  },
  {
   "cell_type": "code",
   "execution_count": 1,
   "metadata": {},
   "outputs": [],
   "source": [
    "import time\n",
    "import requests\n",
    "import json\n",
    "\n",
    "api_input = {'target_group': ['Beauty'], \n",
    "             'vertical': ['Beauty'], \n",
    "             'campaign_objective': ['engagement_rate','click_through_rate'] \n",
    "             }\n",
    "\n",
    "\n",
    "url = 'http://127.0.0.1:8885/'\n",
    "t = time.time()\n",
    "response_get_neighbors = requests.post(url +'get_neighbors',\n",
    "                  json=api_input, headers=headers_)\n",
    "\n",
    "response_get_neighbors_to_load = json.dumps(json.loads(response_get_neighbors.content))"
   ]
  },
  {
   "cell_type": "code",
   "execution_count": 2,
   "metadata": {},
   "outputs": [
    {
     "data": {
      "text/plain": [
       "{'list_indices_distances': [['204', 2.6457513110645907],\n",
       "  ['155', 2.6457513110645907],\n",
       "  ['203', 2.6457513110645907],\n",
       "  ['2', 2.6457513110645907],\n",
       "  ['29', 2.6457513110645907],\n",
       "  ['253', 2.6457513110645907],\n",
       "  ['1', 2.6457513110645907],\n",
       "  ['28', 2.6457513110645907],\n",
       "  ['237', 2.6457513110645907],\n",
       "  ['154', 2.6457513110645907],\n",
       "  ['236', 2.6457513110645907],\n",
       "  ['202', 3.0],\n",
       "  ['207', 3.0],\n",
       "  ['208', 3.0],\n",
       "  ['210', 3.0],\n",
       "  ['211', 3.0],\n",
       "  ['213', 3.0],\n",
       "  ['212', 3.0],\n",
       "  ['205', 3.0],\n",
       "  ['209', 3.0]],\n",
       " 'objectives': ['engagement_rate', 'click_through_rate']}"
      ]
     },
     "execution_count": 2,
     "metadata": {},
     "output_type": "execute_result"
    }
   ],
   "source": [
    "json.loads(response_get_neighbors_to_load)"
   ]
  },
  {
   "cell_type": "code",
   "execution_count": 123,
   "metadata": {},
   "outputs": [],
   "source": [
    "# SELECT NEIGHBORS"
   ]
  },
  {
   "cell_type": "code",
   "execution_count": 3,
   "metadata": {},
   "outputs": [],
   "source": [
    "import time\n",
    "import requests\n",
    "import json\n",
    "headers_ = {\n",
    "        \"EsbApi-Subscription-Key\": \"asd\",\n",
    "        \"Authorization\": \"asdas\"\n",
    "}\n",
    "\n",
    "url = 'http://127.0.0.1:8885/'\n",
    "t = time.time()\n",
    "response_select_neighbors = requests.post(url +'select_neighbors',\n",
    "                  json=response_get_neighbors_to_load, headers=headers_)\n",
    "\n",
    "response_select_neighbors_to_load = json.dumps(json.loads(response_select_neighbors.content))"
   ]
  },
  {
   "cell_type": "code",
   "execution_count": 4,
   "metadata": {},
   "outputs": [
    {
     "data": {
      "text/plain": [
       "{'list_indices_sorted_unique': ['202',\n",
       "  '207',\n",
       "  '211',\n",
       "  '154',\n",
       "  '237',\n",
       "  '29',\n",
       "  '253',\n",
       "  '2']}"
      ]
     },
     "execution_count": 4,
     "metadata": {},
     "output_type": "execute_result"
    }
   ],
   "source": [
    "json.loads(response_select_neighbors_to_load)"
   ]
  },
  {
   "cell_type": "code",
   "execution_count": 5,
   "metadata": {},
   "outputs": [],
   "source": [
    "# Get output"
   ]
  },
  {
   "cell_type": "code",
   "execution_count": 6,
   "metadata": {},
   "outputs": [],
   "source": [
    "import time\n",
    "import requests\n",
    "import json\n",
    "headers_ = {\n",
    "        \"EsbApi-Subscription-Key\": \"asd\",\n",
    "        \"Authorization\": \"asdas\"\n",
    "}\n",
    "\n",
    "url = 'http://127.0.0.1:8885/'\n",
    "t = time.time()\n",
    "response_get_output = requests.post(url +'get_output',\n",
    "                  json=response_select_neighbors_to_load, headers=headers_)\n",
    "\n",
    "response_get_output_to_load = json.dumps(json.loads(response_get_output.content))"
   ]
  },
  {
   "cell_type": "code",
   "execution_count": 7,
   "metadata": {},
   "outputs": [
    {
     "data": {
      "text/plain": [
       "{'list_metadata': [['202',\n",
       "   [['https://preview.adludio.com/a87a4e944cf8ca1e26cbc2dae493dad3/994b6c7253e2c0e93b1d',\n",
       "     ['drag,collide,click',\n",
       "      0.0,\n",
       "      0.0,\n",
       "      600.0,\n",
       "      900.0,\n",
       "      nan,\n",
       "      nan,\n",
       "      nan,\n",
       "      nan,\n",
       "      0.0,\n",
       "      -960.0,\n",
       "      600.0,\n",
       "      900.0,\n",
       "      True,\n",
       "      0.0,\n",
       "      0.0,\n",
       "      215.0,\n",
       "      53.0,\n",
       "      36.0,\n",
       "      654.0,\n",
       "      215.0,\n",
       "      53.0,\n",
       "      600.0,\n",
       "      900.0,\n",
       "      540000.0,\n",
       "      540000.0,\n",
       "      11395.0,\n",
       "      nan,\n",
       "      11395.0]],\n",
       "    [6, 7, 14, 14],\n",
       "    [0.04722792607802875, 0.006160164271047228]]],\n",
       "  ['207',\n",
       "   [['https://preview.adludio.com/a9bd4a2e261d3dbfc9272db5c3845c9a/5867d80c838a342b04df',\n",
       "     ['drag,collide,click',\n",
       "      0.0,\n",
       "      100.0,\n",
       "      600.0,\n",
       "      400.0,\n",
       "      nan,\n",
       "      nan,\n",
       "      nan,\n",
       "      nan,\n",
       "      0.0,\n",
       "      -420.0,\n",
       "      600.0,\n",
       "      500.0,\n",
       "      True,\n",
       "      0.0,\n",
       "      0.0,\n",
       "      266.0,\n",
       "      60.0,\n",
       "      167.0,\n",
       "      422.0,\n",
       "      266.0,\n",
       "      60.0,\n",
       "      600.0,\n",
       "      500.0,\n",
       "      240000.0,\n",
       "      300000.0,\n",
       "      15960.0,\n",
       "      nan,\n",
       "      15960.0]],\n",
       "    [6, 8, 11, 14],\n",
       "    [0.27768404226978066, 0.008613799840156292]]],\n",
       "  ['211',\n",
       "   [['https://preview.adludio.com/acb41222bf07b00fd9086283a66f1a94/669e69b857cf699bc74b',\n",
       "     ['click,paint',\n",
       "      0.0,\n",
       "      0.0,\n",
       "      600.0,\n",
       "      900.0,\n",
       "      nan,\n",
       "      nan,\n",
       "      nan,\n",
       "      nan,\n",
       "      nan,\n",
       "      nan,\n",
       "      nan,\n",
       "      nan,\n",
       "      True,\n",
       "      0.0,\n",
       "      0.0,\n",
       "      400.0,\n",
       "      85.0,\n",
       "      100.0,\n",
       "      764.0,\n",
       "      400.0,\n",
       "      85.0,\n",
       "      600.0,\n",
       "      900.0,\n",
       "      540000.0,\n",
       "      540000.0,\n",
       "      34000.0,\n",
       "      nan,\n",
       "      34000.0]],\n",
       "    [6, 8, 11, 14],\n",
       "    [0.2820576540755467, 0.026590457256461232]]],\n",
       "  ['154',\n",
       "   [['https://preview.adludio.com/95de4006063f3eba1249f644e7d2f1a0/1a91e1d47c6912e34752',\n",
       "     ['click,drag,collide',\n",
       "      103.0,\n",
       "      347.0,\n",
       "      497.0,\n",
       "      553.0,\n",
       "      nan,\n",
       "      nan,\n",
       "      nan,\n",
       "      nan,\n",
       "      0.0,\n",
       "      -630.0,\n",
       "      600.0,\n",
       "      900.0,\n",
       "      True,\n",
       "      0.0,\n",
       "      0.0,\n",
       "      600.0,\n",
       "      100.0,\n",
       "      nan,\n",
       "      nan,\n",
       "      nan,\n",
       "      nan,\n",
       "      600.0,\n",
       "      900.0,\n",
       "      274841.0,\n",
       "      540000.0,\n",
       "      60000.0,\n",
       "      nan,\n",
       "      nan]],\n",
       "    [6, 8, 2, 14],\n",
       "    [0.24060150375939848, 0.0037593984962406013]]],\n",
       "  ['237',\n",
       "   [['https://preview.adludio.com/bc96941f523f9325db771e6d953b92aa/ab929297aca268743a9a',\n",
       "     ['tap-and-hold,click',\n",
       "      0.0,\n",
       "      0.0,\n",
       "      600.0,\n",
       "      500.0,\n",
       "      nan,\n",
       "      nan,\n",
       "      nan,\n",
       "      nan,\n",
       "      nan,\n",
       "      nan,\n",
       "      nan,\n",
       "      nan,\n",
       "      True,\n",
       "      0.0,\n",
       "      0.0,\n",
       "      600.0,\n",
       "      500.0,\n",
       "      nan,\n",
       "      nan,\n",
       "      nan,\n",
       "      nan,\n",
       "      600.0,\n",
       "      500.0,\n",
       "      300000.0,\n",
       "      300000.0,\n",
       "      300000.0,\n",
       "      nan,\n",
       "      nan]],\n",
       "    [6, 9, 2, 14],\n",
       "    [0.31566593886462885, 0.01779475982532751]]],\n",
       "  ['29',\n",
       "   [['https://preview.adludio.com/1d4e4f7355ab9cf46817eb752b35ad28/7672d602e10aed27b4fc',\n",
       "     ['drag,collide,click',\n",
       "      0.0,\n",
       "      305.0,\n",
       "      600.0,\n",
       "      400.0,\n",
       "      nan,\n",
       "      nan,\n",
       "      nan,\n",
       "      nan,\n",
       "      -1.0,\n",
       "      -826.0,\n",
       "      600.0,\n",
       "      900.0,\n",
       "      True,\n",
       "      0.0,\n",
       "      0.0,\n",
       "      368.0,\n",
       "      83.0,\n",
       "      116.0,\n",
       "      766.0,\n",
       "      368.0,\n",
       "      83.0,\n",
       "      600.0,\n",
       "      900.0,\n",
       "      240000.0,\n",
       "      540000.0,\n",
       "      30544.0,\n",
       "      nan,\n",
       "      30544.0]],\n",
       "    [6, 9, 2, 14],\n",
       "    [0.3783179330233653, 0.034841975163321756]]],\n",
       "  ['253',\n",
       "   [['https://preview.adludio.com/c7d892247c4a03a368ea2e5bab6fa511/22674fd8e49ca44c9e6c',\n",
       "     ['click,drag,collide',\n",
       "      103.0,\n",
       "      347.0,\n",
       "      497.0,\n",
       "      553.0,\n",
       "      nan,\n",
       "      nan,\n",
       "      nan,\n",
       "      nan,\n",
       "      0.0,\n",
       "      -630.0,\n",
       "      600.0,\n",
       "      900.0,\n",
       "      True,\n",
       "      0.0,\n",
       "      0.0,\n",
       "      600.0,\n",
       "      100.0,\n",
       "      1.0,\n",
       "      800.0,\n",
       "      600.0,\n",
       "      100.0,\n",
       "      600.0,\n",
       "      900.0,\n",
       "      274841.0,\n",
       "      540000.0,\n",
       "      60000.0,\n",
       "      nan,\n",
       "      60000.0]],\n",
       "    [6, 8, 2, 14],\n",
       "    [0.33047210300429186, 0.0]]],\n",
       "  ['2',\n",
       "   [['https://preview.adludio.com/025974ed1a241f2957a0671cc7e23402/fc820fb3208d8ae4c4cb',\n",
       "     ['tap-and-hold,click',\n",
       "      0.0,\n",
       "      0.0,\n",
       "      600.0,\n",
       "      400.0,\n",
       "      nan,\n",
       "      nan,\n",
       "      nan,\n",
       "      nan,\n",
       "      nan,\n",
       "      nan,\n",
       "      nan,\n",
       "      nan,\n",
       "      True,\n",
       "      0.0,\n",
       "      0.0,\n",
       "      600.0,\n",
       "      500.0,\n",
       "      nan,\n",
       "      nan,\n",
       "      nan,\n",
       "      nan,\n",
       "      600.0,\n",
       "      900.0,\n",
       "      240000.0,\n",
       "      540000.0,\n",
       "      300000.0,\n",
       "      nan,\n",
       "      nan]],\n",
       "    [6, 9, 2, 14],\n",
       "    [0.10969643383436486, 0.015089890951959917]]]]}"
      ]
     },
     "execution_count": 7,
     "metadata": {},
     "output_type": "execute_result"
    }
   ],
   "source": [
    "json.loads(response_get_output_to_load)"
   ]
  },
  {
   "cell_type": "code",
   "execution_count": null,
   "metadata": {},
   "outputs": [],
   "source": [
    "### OTHER"
   ]
  },
  {
   "cell_type": "code",
   "execution_count": null,
   "metadata": {},
   "outputs": [],
   "source": []
  },
  {
   "cell_type": "code",
   "execution_count": null,
   "metadata": {},
   "outputs": [],
   "source": [
    "## from datetime import datetime as dt\n",
    "time_stamp = pd.to_datetime(jsn_list[0][\"Timestmp\"])\n",
    "str(time_stamp + pd.Timedelta(seconds=200))\n"
   ]
  },
  {
   "cell_type": "code",
   "execution_count": null,
   "metadata": {},
   "outputs": [],
   "source": [
    "\n",
    "headers_ = {\n",
    "        \"EsbApi-Subscription-Key\": \"asd\",\n",
    "        \"Authorization\": \"asdas\",\n",
    "        \"Content-Type\": \"application/json\",\n",
    "    \n",
    "}\n",
    "\n",
    "jsn_list = [\n",
    "   {\n",
    "      \"Timestmp\":\"2020-05-04T11:28:13.000Z\",\n",
    "      \"Feature1\":617.52,\n",
    "      \"Feature2\":670.90,\n",
    "      \"Feature3\":758.53,\n",
    "      \"Feature4\":56,\n",
    "   }\n",
    "]\n",
    "\n",
    "url = 'https://creative_rec.fal.aws.net/'\n",
    "t = time.time()\n",
    "r = requests.post(url +'predict',\n",
    "                  json=jsn_list, headers=headers_)\n",
    "print(time.time()-t)\n",
    "json.dumps(json.loads(r.content))\n"
   ]
  },
  {
   "cell_type": "code",
   "execution_count": 53,
   "metadata": {},
   "outputs": [],
   "source": [
    "import ast\n",
    "t = ast.literal_eval(\"{'muffin' : 'lolz', 'foo' : 'kitty'}\")"
   ]
  },
  {
   "cell_type": "code",
   "execution_count": 54,
   "metadata": {},
   "outputs": [
    {
     "data": {
      "text/plain": [
       "dict"
      ]
     },
     "execution_count": 54,
     "metadata": {},
     "output_type": "execute_result"
    }
   ],
   "source": [
    "type(t)"
   ]
  },
  {
   "cell_type": "code",
   "execution_count": null,
   "metadata": {},
   "outputs": [],
   "source": [
    "r.content"
   ]
  },
  {
   "cell_type": "markdown",
   "metadata": {},
   "source": []
  },
  {
   "cell_type": "code",
   "execution_count": null,
   "metadata": {},
   "outputs": [],
   "source": []
  },
  {
   "cell_type": "code",
   "execution_count": null,
   "metadata": {},
   "outputs": [],
   "source": []
  },
  {
   "cell_type": "code",
   "execution_count": null,
   "metadata": {},
   "outputs": [],
   "source": [
    "\n"
   ]
  },
  {
   "cell_type": "code",
   "execution_count": null,
   "metadata": {},
   "outputs": [],
   "source": []
  },
  {
   "cell_type": "code",
   "execution_count": null,
   "metadata": {},
   "outputs": [],
   "source": [
    "# {\"month\": \"\"july\", \"location\": \"france\"}\n",
    "str_ = load_json_string()\n",
    "\n",
    "input_ = convert_to_knn_input(str_)\n",
    "\n",
    "res = call_knn(input_)\n",
    "\n",
    "api_res = api_output(res)\n",
    "\n",
    "\n",
    "def call_knn(input):\n",
    "    load trained_knn_\n",
    "    #make prediuctions\n",
    "    \n",
    "    # return rpedictions\n",
    "    \n",
    "    "
   ]
  },
  {
   "cell_type": "code",
   "execution_count": 29,
   "metadata": {},
   "outputs": [],
   "source": [
    "LOOK_UP_TABLE = {}\n",
    "\n",
    "LOOK_UP_TABLE['country'] = ['France', 'Hong', 'Kong', 'Malaysia',\n",
    "                            'Singapore', 'South Africa', 'United States', 'United Kingdom']\n",
    "LOOK_UP_TABLE['month'] = ['January', 'February', 'March', 'April', 'May',\n",
    "                          'June', 'July', 'August', 'September', 'October', 'November', 'December']\n",
    "LOOK_UP_TABLE['target_group'] = [\"Arts & Entertainment & Books & Literature \", \"Autos \", \"Beauty\", \"Fitness & Health\", \"Business & Finance\", \"Computers & Technology\", \"Education \", \"Fashion \", \"Food & Drinks\", \"Games\",\n",
    "                                 \"Home & Garden\", \"Parenting & Family\", \"Pets & Animals\", \"Real Estate\", \"Uncategorized\", \"Shopping\", \"Sports\", \"Travel\", \"Law & Government Local News\", \"People\", \"Society & Online Communities Energy\"]\n",
    "\n",
    "LOOK_UP_TABLE['vertical'] = copy.copy(LOOK_UP_TABLE['target_group'])\n",
    "\n",
    "LOOK_UP_TABLE['campaign_objective'] = ['engagement_rate',\n",
    "                                       'click_through_rate', 'cost_per_engagement']\n",
    "\n",
    "COLUMN_INPUTS = ['country', 'month', 'target_group', 'vertical']\n",
    "COLUMN_OUTPUTS = ['campaign_objective']\n"
   ]
  },
  {
   "cell_type": "code",
   "execution_count": 38,
   "metadata": {},
   "outputs": [],
   "source": [
    "api_input = {\n",
    "    \"month\": [\"June\", \"July\", \"August\"],\n",
    "    \"country\": [\"United Kingdom\"],\n",
    "    \"vertical\": [\"Business & Finance\", \"Travel\"],\n",
    "    \"target_group\": [\"Business & Finance\"],\n",
    "    \"campaign_objectives\": [\"click_through_rate\"],\n",
    "}\n"
   ]
  },
  {
   "cell_type": "code",
   "execution_count": 41,
   "metadata": {},
   "outputs": [],
   "source": [
    "def extract_inputs(json_string, COLUMN_INPUTS=COLUMN_INPUTS,\n",
    "                   COLUMN_OUTPUTS=COLUMN_OUTPUTS):\n",
    "\n",
    "    key_location = {}\n",
    "    for key in COLUMN_INPUTS:\n",
    "        if key in json_string:\n",
    "            key_location[key] = []\n",
    "            for vals in json_string[key]:\n",
    "                key_location[key].append(LOOK_UP_TABLE[key].index(vals))\n",
    "        else:\n",
    "            key_location[key] = np.arange(len(LOOK_UP_TABLE[key])).tolist()\n",
    "\n",
    "    objectives = []\n",
    "    for key in COLUMN_OUTPUTS:\n",
    "        if key in json_string:\n",
    "            for vals in json_string[key]:\n",
    "                objectives.append(vals)\n",
    "\n",
    "    return key_location, objectives\n",
    "\n",
    "r, _ = extract_inputs(api_input)"
   ]
  },
  {
   "cell_type": "code",
   "execution_count": 49,
   "metadata": {},
   "outputs": [
    {
     "name": "stdout",
     "output_type": "stream",
     "text": [
      "<label for='country'>insert country</label><select name='country'>\n",
      "<option value='France' selected>France</option>\n",
      "<option value='Hong' >Hong</option>\n",
      "<option value='Kong' >Kong</option>\n",
      "<option value='Malaysia' >Malaysia</option>\n",
      "<option value='Singapore' >Singapore</option>\n",
      "<option value='South Africa' >South Africa</option>\n",
      "<option value='United States' >United States</option>\n",
      "<option value='United Kingdom' >United Kingdom</option>\n",
      "</select><br>\n",
      "<label for='month'>insert month</label><select name='month'>\n",
      "<option value='January' selected>January</option>\n",
      "<option value='February' >February</option>\n",
      "<option value='March' >March</option>\n",
      "<option value='April' >April</option>\n",
      "<option value='May' >May</option>\n",
      "<option value='June' >June</option>\n",
      "<option value='July' >July</option>\n",
      "<option value='August' >August</option>\n",
      "<option value='September' >September</option>\n",
      "<option value='October' >October</option>\n",
      "<option value='November' >November</option>\n",
      "<option value='December' >December</option>\n",
      "</select><br>\n",
      "<label for='target_group'>insert target_group</label><select name='target_group'>\n",
      "<option value='Arts & Entertainment & Books & Literature ' selected>Arts & Entertainment & Books & Literature </option>\n",
      "<option value='Autos ' >Autos </option>\n",
      "<option value='Beauty' >Beauty</option>\n",
      "<option value='Fitness & Health' >Fitness & Health</option>\n",
      "<option value='Business & Finance' >Business & Finance</option>\n",
      "<option value='Computers & Technology' >Computers & Technology</option>\n",
      "<option value='Education ' >Education </option>\n",
      "<option value='Fashion ' >Fashion </option>\n",
      "<option value='Food & Drinks' >Food & Drinks</option>\n",
      "<option value='Games' >Games</option>\n",
      "<option value='Home & Garden' >Home & Garden</option>\n",
      "<option value='Parenting & Family' >Parenting & Family</option>\n",
      "<option value='Pets & Animals' >Pets & Animals</option>\n",
      "<option value='Real Estate' >Real Estate</option>\n",
      "<option value='Uncategorized' >Uncategorized</option>\n",
      "<option value='Shopping' >Shopping</option>\n",
      "<option value='Sports' >Sports</option>\n",
      "<option value='Travel' >Travel</option>\n",
      "<option value='Law & Government Local News' >Law & Government Local News</option>\n",
      "<option value='People' >People</option>\n",
      "<option value='Society & Online Communities Energy' >Society & Online Communities Energy</option>\n",
      "</select><br>\n",
      "<label for='vertical'>insert vertical</label><select name='vertical'>\n",
      "<option value='Arts & Entertainment & Books & Literature ' selected>Arts & Entertainment & Books & Literature </option>\n",
      "<option value='Autos ' >Autos </option>\n",
      "<option value='Beauty' >Beauty</option>\n",
      "<option value='Fitness & Health' >Fitness & Health</option>\n",
      "<option value='Business & Finance' >Business & Finance</option>\n",
      "<option value='Computers & Technology' >Computers & Technology</option>\n",
      "<option value='Education ' >Education </option>\n",
      "<option value='Fashion ' >Fashion </option>\n",
      "<option value='Food & Drinks' >Food & Drinks</option>\n",
      "<option value='Games' >Games</option>\n",
      "<option value='Home & Garden' >Home & Garden</option>\n",
      "<option value='Parenting & Family' >Parenting & Family</option>\n",
      "<option value='Pets & Animals' >Pets & Animals</option>\n",
      "<option value='Real Estate' >Real Estate</option>\n",
      "<option value='Uncategorized' >Uncategorized</option>\n",
      "<option value='Shopping' >Shopping</option>\n",
      "<option value='Sports' >Sports</option>\n",
      "<option value='Travel' >Travel</option>\n",
      "<option value='Law & Government Local News' >Law & Government Local News</option>\n",
      "<option value='People' >People</option>\n",
      "<option value='Society & Online Communities Energy' >Society & Online Communities Energy</option>\n",
      "</select><br>\n",
      "<label for='campaign_objective'>insert campaign_objective</label><select name='campaign_objective'>\n",
      "<option value='engagement_rate' selected>engagement_rate</option>\n",
      "<option value='click_through_rate' >click_through_rate</option>\n",
      "<option value='cost_per_engagement' >cost_per_engagement</option>\n",
      "</select><br>\n"
     ]
    }
   ],
   "source": [
    "for key in LOOK_UP_TABLE:\n",
    "    print(f\"<label for='{key}'>insert {key}</label><select name='{key}'>\")\n",
    "    for i, val in enumerate(LOOK_UP_TABLE[key]):\n",
    "        selected = ''\n",
    "        if i ==0:\n",
    "            selected = 'selected'\n",
    "        print(f\"<option value='{val}' {selected}>{val}</option>\")\n",
    "    print('</select><br>')\n"
   ]
  },
  {
   "cell_type": "code",
   "execution_count": 46,
   "metadata": {},
   "outputs": [
    {
     "data": {
      "text/plain": [
       "['country', 'month', 'target_group', 'vertical']"
      ]
     },
     "execution_count": 46,
     "metadata": {},
     "output_type": "execute_result"
    }
   ],
   "source": [
    "X = []\n",
    "# think of some nicer way to do this, recursion...\n",
    "for cntry in r[COLUMN_INPUTS[0]]:\n",
    "    for month in r[COLUMN_INPUTS[1]]:\n",
    "        for target_group in r[COLUMN_INPUTS[2]]:\n",
    "            for vertical in r[COLUMN_INPUTS[3]]:\n",
    "                X.append([cntry, month, target_group, vertical])\n",
    "           "
   ]
  },
  {
   "cell_type": "code",
   "execution_count": 47,
   "metadata": {},
   "outputs": [
    {
     "data": {
      "text/plain": [
       "[[7, 5, 4, 4],\n",
       " [7, 5, 4, 17],\n",
       " [7, 6, 4, 4],\n",
       " [7, 6, 4, 17],\n",
       " [7, 7, 4, 4],\n",
       " [7, 7, 4, 17]]"
      ]
     },
     "execution_count": 47,
     "metadata": {},
     "output_type": "execute_result"
    }
   ],
   "source": [
    "X"
   ]
  },
  {
   "cell_type": "code",
   "execution_count": null,
   "metadata": {},
   "outputs": [],
   "source": []
  },
  {
   "cell_type": "code",
   "execution_count": null,
   "metadata": {},
   "outputs": [],
   "source": []
  },
  {
   "cell_type": "code",
   "execution_count": null,
   "metadata": {},
   "outputs": [],
   "source": []
  },
  {
   "cell_type": "code",
   "execution_count": null,
   "metadata": {},
   "outputs": [],
   "source": []
  },
  {
   "cell_type": "code",
   "execution_count": null,
   "metadata": {},
   "outputs": [],
   "source": [
    "api_input = {\n",
    "    \"game_keys\": [\"game1\", 'game2'],\n",
    "    \"meta_data_columns\": [\"month\"]\n",
    "    }\n",
    "\n",
    "url = 'http://127.0.0.1:8885/'\n",
    "t = time.time()\n",
    "r = requests.post(url +'get_game_info',\n",
    "                  json=api_input, headers=headers_)\n",
    "print(time.time()-t)\n",
    "json.dumps(json.loads(r.content))"
   ]
  },
  {
   "cell_type": "code",
   "execution_count": null,
   "metadata": {},
   "outputs": [],
   "source": []
  }
 ],
 "metadata": {
  "kernelspec": {
   "display_name": "Python 3",
   "language": "python",
   "name": "python3"
  },
  "language_info": {
   "codemirror_mode": {
    "name": "ipython",
    "version": 3
   },
   "file_extension": ".py",
   "mimetype": "text/x-python",
   "name": "python",
   "nbconvert_exporter": "python",
   "pygments_lexer": "ipython3",
   "version": "3.7.4"
  },
  "name": "System Monitoring_trial",
  "notebookId": 2443126395477774
 },
 "nbformat": 4,
 "nbformat_minor": 4
}
