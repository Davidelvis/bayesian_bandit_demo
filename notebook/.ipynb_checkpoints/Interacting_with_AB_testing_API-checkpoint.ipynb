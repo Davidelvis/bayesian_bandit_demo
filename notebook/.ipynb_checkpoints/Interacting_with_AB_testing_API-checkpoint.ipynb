{
 "cells": [
  {
   "cell_type": "code",
   "execution_count": 1,
   "metadata": {},
   "outputs": [],
   "source": [
    "import sys\n",
    "import json\n",
    "import requests\n",
    "import time\n",
    "import json\n",
    "import numpy as np\n",
    "# now play this game with bandits\n"
   ]
  },
  {
   "cell_type": "code",
   "execution_count": 2,
   "metadata": {},
   "outputs": [],
   "source": [
    "# example s3 dump\n",
    "file =  '../data/6_may_1k.json'\n",
    "json_data = json.load(open(file, 'r'))"
   ]
  },
  {
   "cell_type": "code",
   "execution_count": null,
   "metadata": {},
   "outputs": [],
   "source": []
  },
  {
   "cell_type": "code",
   "execution_count": 3,
   "metadata": {
    "scrolled": true
   },
   "outputs": [
    {
     "ename": "NameError",
     "evalue": "name 'pd' is not defined",
     "output_type": "error",
     "traceback": [
      "\u001b[0;31m---------------------------------------------------------------------------\u001b[0m",
      "\u001b[0;31mNameError\u001b[0m                                 Traceback (most recent call last)",
      "\u001b[0;32m<ipython-input-3-0ed413420502>\u001b[0m in \u001b[0;36m<module>\u001b[0;34m\u001b[0m\n\u001b[1;32m      6\u001b[0m \u001b[0ms3_buket_response\u001b[0m \u001b[0;34m=\u001b[0m \u001b[0;34m[\u001b[0m\u001b[0mjson_data\u001b[0m\u001b[0;34m,\u001b[0m \u001b[0mjson_data\u001b[0m\u001b[0;34m]\u001b[0m\u001b[0;34m\u001b[0m\u001b[0;34m\u001b[0m\u001b[0m\n\u001b[1;32m      7\u001b[0m \u001b[0;32mfor\u001b[0m \u001b[0mjson_d\u001b[0m \u001b[0;32min\u001b[0m \u001b[0ms3_buket_response\u001b[0m\u001b[0;34m:\u001b[0m\u001b[0;34m\u001b[0m\u001b[0;34m\u001b[0m\u001b[0m\n\u001b[0;32m----> 8\u001b[0;31m     \u001b[0mprint\u001b[0m\u001b[0;34m(\u001b[0m\u001b[0mlen\u001b[0m\u001b[0;34m(\u001b[0m\u001b[0mpd\u001b[0m\u001b[0;34m.\u001b[0m\u001b[0mDataFrame\u001b[0m\u001b[0;34m(\u001b[0m\u001b[0mjson_d\u001b[0m\u001b[0;34m)\u001b[0m\u001b[0;34m)\u001b[0m\u001b[0;34m)\u001b[0m\u001b[0;34m\u001b[0m\u001b[0;34m\u001b[0m\u001b[0m\n\u001b[0m\u001b[1;32m      9\u001b[0m \u001b[0;34m\u001b[0m\u001b[0m\n\u001b[1;32m     10\u001b[0m     \u001b[0mt\u001b[0m \u001b[0;34m=\u001b[0m \u001b[0mtime\u001b[0m\u001b[0;34m.\u001b[0m\u001b[0mtime\u001b[0m\u001b[0;34m(\u001b[0m\u001b[0;34m)\u001b[0m\u001b[0;34m\u001b[0m\u001b[0;34m\u001b[0m\u001b[0m\n",
      "\u001b[0;31mNameError\u001b[0m: name 'pd' is not defined"
     ]
    }
   ],
   "source": [
    "# example append/add elements to beta function using data from S3 dump\n",
    "\n",
    "# url = 'http://192.168.99.100:8899/'\n",
    "url = 'http://0.0.0.0:8080/'\n",
    "s3_buket_response = [json_data, json_data]\n",
    "for json_d in s3_buket_response:\n",
    "    t = time.time()\n",
    "    r = requests.post(url +'update_bandit',\n",
    "                      json=json_d)\n",
    "    print(json.loads(r.content))\n",
    "    print(time.time()-t)\n",
    " "
   ]
  },
  {
   "cell_type": "code",
   "execution_count": null,
   "metadata": {},
   "outputs": [],
   "source": []
  },
  {
   "cell_type": "code",
   "execution_count": null,
   "metadata": {},
   "outputs": [],
   "source": [
    "# load/append beta matrix from a cleaner JSON interface\n",
    "new_beta = [{\"game_key_7\": {\"number_successes\": 50, \"number_failures\": 400}}, \n",
    "             {\"game_key_9\": {\"number_successes\": 30, \"number_trials\": 33}},\n",
    "             {\"game_key_10\": {\"number_failures\": 30, \"number_trials\": 33}}\n",
    "              ]\n",
    "\n",
    "\n",
    "for json_d in new_beta:\n",
    "    print(json_d)\n",
    "    r = requests.post(url +'update_bandit',\n",
    "                      json=json_d)\n",
    "    print(json.loads(r.content))\n",
    "\n",
    "\n",
    "r = requests.post(url +'update_bandit',\n",
    "                  json=new_beta)\n",
    "print(json.loads(r.content))              "
   ]
  },
  {
   "cell_type": "code",
   "execution_count": null,
   "metadata": {
    "scrolled": true
   },
   "outputs": [],
   "source": [
    "# what does the current beta matrix look like?\n",
    "\n",
    "r = requests.post(url +'dump_beta_matrix_parameters',\n",
    "                  json=json_d)\n",
    "parsed = json.loads(r.content)['beta_matrix_parameters']\n",
    "print(json.dumps(parsed, indent=4, sort_keys=True))"
   ]
  },
  {
   "cell_type": "code",
   "execution_count": null,
   "metadata": {},
   "outputs": [],
   "source": []
  },
  {
   "cell_type": "code",
   "execution_count": null,
   "metadata": {
    "scrolled": true
   },
   "outputs": [],
   "source": [
    "# pull lever example\n",
    "get_ids = []\n",
    "for i in range(10):\n",
    "    r = requests.post(url +'pull_lever')\n",
    "    get_ids.append({i: json.loads(r.content)})\n",
    "print(get_ids)"
   ]
  },
  {
   "cell_type": "code",
   "execution_count": null,
   "metadata": {},
   "outputs": [],
   "source": []
  },
  {
   "cell_type": "code",
   "execution_count": null,
   "metadata": {},
   "outputs": [],
   "source": [
    "# pull only some of the games\n",
    "r = requests.post(url +'pull_lever',  json={'items': ['game_key_9', 'game_key_10']})\n",
    "json.loads(r.content)\n"
   ]
  },
  {
   "cell_type": "code",
   "execution_count": null,
   "metadata": {},
   "outputs": [],
   "source": [
    "# pull for all leavers\n",
    "r = requests.post(url +'pull_levers')\n",
    "json.loads(r.content)\n"
   ]
  },
  {
   "cell_type": "code",
   "execution_count": null,
   "metadata": {},
   "outputs": [],
   "source": [
    "# pull some levers games\n",
    "r = requests.post(url +'pull_levers',  json={'items': ['game_key_9', 'game_key_10']})\n",
    "json.loads(r.content)\n"
   ]
  },
  {
   "cell_type": "markdown",
   "metadata": {},
   "source": [
    "<h3>Generalised AB framework for testing</h3>\n",
    "\n",
    "Image we had a campaign, with an ad spend of 10k euro. Initialy there were 3 adunits, each with a different, and initialy unknown KPI rate. Sometimes more adunits are added to the mix. Can we \"proove\" that our AB algorihtm provides more optimal results compared to 1) random, and 2) other algorihtms\n"
   ]
  },
  {
   "cell_type": "code",
   "execution_count": null,
   "metadata": {},
   "outputs": [],
   "source": [
    "# url = 'http://127.0.0.1:8080/'\n",
    "n_games = 4\n",
    "campaign_spend = 1e4\n",
    "total_impressions = int(1e3)\n",
    "\n",
    "game_keys = [f\"game_id_{i}\" for i in range(n_games)]\n",
    "true_unknown_kpi = {}\n",
    "\n",
    "number_success = {}\n",
    "number_impressions = {}\n",
    "for gk in game_keys:\n",
    "    true_unknown_kpi[gk] = np.random.uniform(0.1,0.5)\n",
    "    number_impressions[gk] = 0\n",
    "    number_success[gk] = 0\n",
    "    \n",
    "# let's start the random campaign:\n",
    "for i in range(total_impressions):\n",
    "    game_ky = np.random.choice(list(true_unknown_kpi.keys()))\n",
    "    number_impressions[game_ky] +=1\n",
    "    number_success[game_ky] += np.random.choice([0, 1], p=[1-true_unknown_kpi[game_ky], true_unknown_kpi[game_ky]])"
   ]
  },
  {
   "cell_type": "code",
   "execution_count": null,
   "metadata": {},
   "outputs": [],
   "source": [
    "true_unknown_kpi"
   ]
  },
  {
   "cell_type": "code",
   "execution_count": null,
   "metadata": {},
   "outputs": [],
   "source": [
    "# now play this game with bandits\n",
    "r = requests.post(url +'reset_bandit')\n",
    "print(json.loads(r.content))"
   ]
  },
  {
   "cell_type": "code",
   "execution_count": null,
   "metadata": {
    "scrolled": true
   },
   "outputs": [],
   "source": [
    "# make some games and populate the bandits\n",
    "for gk in list(true_unknown_kpi.keys()):\n",
    "    dict_ = {gk: {'number_successes': int(0), 'number_trials': int(0)}}\n",
    "    print(dict_)\n",
    "    r = requests.post(url +'update_bandit',\n",
    "                      json=dict_)\n",
    "    print(json.loads(r.content))"
   ]
  },
  {
   "cell_type": "code",
   "execution_count": null,
   "metadata": {},
   "outputs": [],
   "source": []
  },
  {
   "cell_type": "code",
   "execution_count": null,
   "metadata": {},
   "outputs": [],
   "source": [
    "number_impressions_bb = {}\n",
    "number_success_bb = {}\n",
    "\n",
    "# play this campaign, as if we had used the bandit routine to assign game ids\n",
    "for i in range(total_impressions):\n",
    "    r = requests.post(url +'pull_lever', json={'items': list(true_unknown_kpi.keys())})\n",
    "\n",
    "    game_id = json.loads(r.content)['item']\n",
    "\n",
    "    if game_id not in number_success_bb:\n",
    "        number_success_bb[game_id] = int(0)\n",
    "        number_impressions_bb[game_id] = int(0)\n",
    "    \n",
    "    number_impressions_bb[game_id] += 1\n",
    "    succss = int(np.random.choice([0, 1], p=[1-true_unknown_kpi[game_id], true_unknown_kpi[game_id]]))\n",
    "    \n",
    "    number_success_bb[game_id] += int(succss)\n",
    "\n",
    "    dict_ = {game_id: {'number_successes': succss, 'number_trials': 1}}\n",
    "    r = requests.post(url +'update_bandit',\n",
    "                  json=dict_)"
   ]
  },
  {
   "cell_type": "code",
   "execution_count": null,
   "metadata": {},
   "outputs": [],
   "source": [
    "number_impressions, number_impressions_bb"
   ]
  },
  {
   "cell_type": "code",
   "execution_count": null,
   "metadata": {},
   "outputs": [],
   "source": [
    "# successes  and KPI rates for random\n",
    "tot_success = np.sum(list(number_success.values()))\n",
    "kpi_rate = tot_success / total_impressions\n",
    "\n",
    "# successes  and KPI rates for Bandit\n",
    "tot_success_bb = np.sum(list(number_success_bb.values()))\n",
    "kpi_rate_bb = tot_success_bb / total_impressions\n",
    "\n",
    "# theoretical maximum success rate\n",
    "mx_game = np.amax(list(true_unknown_kpi.values()))"
   ]
  },
  {
   "cell_type": "code",
   "execution_count": null,
   "metadata": {},
   "outputs": [],
   "source": []
  },
  {
   "cell_type": "code",
   "execution_count": null,
   "metadata": {},
   "outputs": [],
   "source": []
  },
  {
   "cell_type": "code",
   "execution_count": null,
   "metadata": {},
   "outputs": [],
   "source": [
    "print(f\"number of games {len(list(true_unknown_kpi.keys()))}, number of impressions {total_impressions}\")\n",
    "print(f\"KPI rate random {kpi_rate:0.3}, number success random {tot_success}\")\n",
    "print(f\"max KPI {mx_game:0.3}, number of success theoretical {int(mx_game*total_impressions)}\")\n",
    "print(f\"KPI rate Bayesian Bandit {kpi_rate_bb:0.3}, number success Bandit {tot_success_bb}\")"
   ]
  },
  {
   "cell_type": "markdown",
   "metadata": {},
   "source": [
    "\n",
    "<h3>Use historic data to determine how the Bandit algorithm would have performed</h3>\n",
    "\n",
    "Use any historic data (here we show for ben-generated historic data), what a campaign *would have looked* like, if we had used the BB algorithm instead of a random algo, for this campaign."
   ]
  },
  {
   "cell_type": "code",
   "execution_count": null,
   "metadata": {},
   "outputs": [],
   "source": [
    "# url = 'http://127.0.0.1:8885/'\n",
    "# reset the bandit algorithm\n",
    "r = requests.post(url +'reset_bandit')\n",
    "print(json.loads(r.content))"
   ]
  },
  {
   "cell_type": "code",
   "execution_count": null,
   "metadata": {},
   "outputs": [],
   "source": [
    "# url = 'http://127.0.0.1:8080/'\n",
    "\n",
    "n_games = 4\n",
    "# reset the bandit algorithm\n",
    "r = requests.post(url +'reset_bandit')\n",
    "print(json.loads(r.content))\n",
    "\n",
    "game_keys = [f\"game_id_{i}\" for i in range(n_games)]\n",
    "\n",
    "num_input_impress = {}\n",
    "num_input_succ = {}\n",
    "posterior_succ_rates = {}\n",
    "\n",
    "num_sim_succ = {}\n",
    "num_sim_impress = {}\n",
    "impress_simulator = {}\n",
    "num_succ_bb = {}\n",
    "num_impress_bb = {}\n",
    "\n",
    "# for all the games\n",
    "for gk in game_keys:\n",
    "    # determine the actual number of impressions + successes\n",
    "    num_input_impress[gk] = np.random.randint(500, 1000)\n",
    "    num_input_succ[gk] = np.random.randint(300, 400)\n",
    "    \n",
    "    # make a simulation stream of [1,1,1,1,0,0,0,00]\n",
    "    impress_simulator[gk] = [1]*num_input_succ[gk] + [0]*(num_input_impress[gk]-num_input_succ[gk])\n",
    "    \n",
    "    # calculate actual success rates for each game (but the BB algo won't know this apriori)\n",
    "    posterior_succ_rates[gk] = num_input_succ[gk]/num_input_impress[gk]\n",
    "    \n",
    "    # some book keeping to track impressions and successs during the simulation\n",
    "    num_sim_succ[gk] = 0\n",
    "    num_sim_impress[gk] = 0\n",
    "    num_succ_bb[gk] = 0\n",
    "    num_impress_bb[gk] = 0\n",
    "\n",
    "\n",
    "# set up the bandits\n",
    "for gk in game_keys:\n",
    "    dict_ = {gk: {'number_successes': int(0), 'number_trials': int(0)}}\n",
    "    r = requests.post(url +'update_bandit',\n",
    "                      json=dict_)\n",
    "    print(json.loads(r.content))\n",
    "\n",
    "\n",
    "# repeat until we run out of game-key items from an impression_simulator\n",
    "while np.all([len(impress_simulator[gm]) >0 for gm in game_keys]):\n",
    "    \n",
    "    # randomly select a game\n",
    "    game = np.random.choice(game_keys)\n",
    "    \n",
    "    # get one event from the simulation\n",
    "    index = np.random.choice(len(impress_simulator[game]))\n",
    "    \n",
    "    # remove this event from the simulation\n",
    "    success_or_not = impress_simulator[game].pop(index)\n",
    "    \n",
    "    # update success rates\n",
    "    num_sim_succ[game] += success_or_not\n",
    "    num_sim_impress[game] += 1\n",
    "    \n",
    "    # now ask the BB to play the game, with this impression, but the BB algo chooses the game\n",
    "    r = requests.post(url +'pull_lever', json={'items': list(impress_simulator.keys())})\n",
    "    game_id = json.loads(r.content)['item']\n",
    "    \n",
    "    # determine if this would have been a success, using the \"posterior_success_rates\" \n",
    "    succss = int(np.random.choice([0, 1], p=[1-posterior_succ_rates[game_id], posterior_succ_rates[game_id]]))\n",
    "    \n",
    "    num_succ_bb[game_id] += succss\n",
    "    num_impress_bb[game_id] += 1\n",
    "    \n",
    "    # update the bandit algorithm\n",
    "    dict_ = {game_id: {'number_successes': succss, 'number_trials': 1}}\n",
    "    r = requests.post(url +'update_bandit',\n",
    "                  json=dict_)\n",
    "    "
   ]
  },
  {
   "cell_type": "code",
   "execution_count": null,
   "metadata": {},
   "outputs": [],
   "source": [
    "print(\"Actual data from a campaign\")\n",
    "print(\"impressions\", num_input_impress)\n",
    "print(\"successes\", num_input_succ)\n",
    "print(\" \")\n",
    "print(\"Data in mini-simulation\")\n",
    "print(\"impressions\", num_sim_impress)\n",
    "print(\"successes\", num_sim_succ)"
   ]
  },
  {
   "cell_type": "code",
   "execution_count": null,
   "metadata": {},
   "outputs": [],
   "source": [
    "print(f\"performance of mini-simulation on {len(game_keys)} games\")\n",
    "kpi_rate = np.sum(list(num_sim_succ.values()))/np.sum(list(num_sim_impress.values()))\n",
    "print(f\"number of impressions {np.sum(list(num_sim_impress.values()))}, KPI success rate {kpi_rate:0.3}\")\n",
    "print(f\"number of KPI successes {np.sum(list(num_sim_succ.values()))}\")\n",
    "print(\" \")\n",
    "\n",
    "print(f\"performance of bandit running alongside the sim on {len(game_keys)} games\")\n",
    "kpi_rate = np.sum(list(num_succ_bb.values()))/np.sum(list(num_impress_bb.values()))\n",
    "print(f\"number of impressions {np.sum(list(num_impress_bb.values()))}, KPI success rate {kpi_rate:0.3}\")\n",
    "print(f\"number of KPI successes {np.sum(list(num_succ_bb.values()))}\")\n",
    "\n",
    "print(\" \")\n",
    "print(f\"Theoretical maximum of simulation, assuming perfect knowledge\")\n",
    "kpi_rate = np.amax(list(posterior_succ_rates.values()))\n",
    "print(f\"number of impressions {np.sum(list(num_impress_bb.values()))}, KPI success rate {kpi_rate:0.3}\")\n",
    "print(f\"number of KPI successes {int(np.sum(list(num_impress_bb.values()))*kpi_rate)}\")\n"
   ]
  },
  {
   "cell_type": "code",
   "execution_count": null,
   "metadata": {},
   "outputs": [],
   "source": []
  },
  {
   "cell_type": "code",
   "execution_count": null,
   "metadata": {},
   "outputs": [],
   "source": []
  }
 ],
 "metadata": {
  "kernelspec": {
   "display_name": "Python 3",
   "language": "python",
   "name": "python3"
  },
  "language_info": {
   "codemirror_mode": {
    "name": "ipython",
    "version": 3
   },
   "file_extension": ".py",
   "mimetype": "text/x-python",
   "name": "python",
   "nbconvert_exporter": "python",
   "pygments_lexer": "ipython3",
   "version": "3.7.4"
  }
 },
 "nbformat": 4,
 "nbformat_minor": 2
}
